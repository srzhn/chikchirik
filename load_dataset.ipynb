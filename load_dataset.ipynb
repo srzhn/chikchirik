{
 "cells": [
  {
   "cell_type": "code",
   "execution_count": 1,
   "metadata": {},
   "outputs": [],
   "source": [
    "# from pathlib import Path\n",
    "# import datetime\n",
    "# import pandas as pd\n",
    "\n",
    "# ROOT = r\"D:\\gpn\\armatura\"\n",
    "\n",
    "# df = pd.read_parquet(Path(ROOT, 'by_sasha/BIGfull_zra_dataset_for_ml_with_all_features_plus_509.parquet'))\n"
   ]
  },
  {
   "cell_type": "code",
   "execution_count": 10,
   "metadata": {},
   "outputs": [
    {
     "name": "stdout",
     "output_type": "stream",
     "text": [
      "<class 'pandas.core.frame.DataFrame'>\n",
      "Int64Index: 227943 entries, 0 to 227942\n",
      "Columns: 1051 entries, business_unit to bmu_request_spp0_9_normalized\n",
      "dtypes: bool(17), datetime64[ns](1), float64(1030), int64(1), object(2)\n",
      "memory usage: 1.8+ GB\n"
     ]
    }
   ],
   "source": [
    "# df.info()"
   ]
  },
  {
   "cell_type": "code",
   "execution_count": 11,
   "metadata": {},
   "outputs": [],
   "source": [
    "# columns = ['business_unit', 'material_cd', 'window_size', 'cut_date',\n",
    "#        'stock_level', 'in_bmu_fact_count_7_0', 'in_bmu_fact_count_7_1',\n",
    "#        'in_bmu_fact_count_7_2', 'in_bmu_fact_count_7_3',\n",
    "#        'in_bmu_fact_count_7_4'] + [col for col in df.columns if col.startswith('predict')]\n",
    "\n",
    "# df = df.loc[:, columns]\n"
   ]
  },
  {
   "cell_type": "code",
   "execution_count": 12,
   "metadata": {},
   "outputs": [
    {
     "name": "stdout",
     "output_type": "stream",
     "text": [
      "<class 'pandas.core.frame.DataFrame'>\n",
      "Int64Index: 227943 entries, 0 to 227942\n",
      "Data columns (total 61 columns):\n",
      " #   Column                 Non-Null Count   Dtype         \n",
      "---  ------                 --------------   -----         \n",
      " 0   business_unit          227943 non-null  object        \n",
      " 1   material_cd            227943 non-null  object        \n",
      " 2   window_size            227943 non-null  int64         \n",
      " 3   cut_date               227943 non-null  datetime64[ns]\n",
      " 4   stock_level            227943 non-null  float64       \n",
      " 5   in_bmu_fact_count_7_0  227943 non-null  float64       \n",
      " 6   in_bmu_fact_count_7_1  227943 non-null  float64       \n",
      " 7   in_bmu_fact_count_7_2  227943 non-null  float64       \n",
      " 8   in_bmu_fact_count_7_3  227943 non-null  float64       \n",
      " 9   in_bmu_fact_count_7_4  227943 non-null  float64       \n",
      " 10  predict_0              227943 non-null  float64       \n",
      " 11  predict_normalized_0   227943 non-null  float64       \n",
      " 12  predict_1              227943 non-null  float64       \n",
      " 13  predict_normalized_1   227943 non-null  float64       \n",
      " 14  predict_2              224073 non-null  float64       \n",
      " 15  predict_normalized_2   224073 non-null  float64       \n",
      " 16  predict_3              220203 non-null  float64       \n",
      " 17  predict_normalized_3   220203 non-null  float64       \n",
      " 18  predict_4              216333 non-null  float64       \n",
      " 19  predict_normalized_4   216333 non-null  float64       \n",
      " 20  predict_5              212463 non-null  float64       \n",
      " 21  predict_normalized_5   212463 non-null  float64       \n",
      " 22  predict_6              208593 non-null  float64       \n",
      " 23  predict_normalized_6   208593 non-null  float64       \n",
      " 24  predict_7              204723 non-null  float64       \n",
      " 25  predict_normalized_7   204723 non-null  float64       \n",
      " 26  predict_8              200853 non-null  float64       \n",
      " 27  predict_normalized_8   200853 non-null  float64       \n",
      " 28  predict_9              196983 non-null  float64       \n",
      " 29  predict_normalized_9   196983 non-null  float64       \n",
      " 30  predict_10             193113 non-null  float64       \n",
      " 31  predict_normalized_10  193113 non-null  float64       \n",
      " 32  predict_11             189243 non-null  float64       \n",
      " 33  predict_normalized_11  189243 non-null  float64       \n",
      " 34  predict_12             185373 non-null  float64       \n",
      " 35  predict_normalized_12  185373 non-null  float64       \n",
      " 36  predict_13             181503 non-null  float64       \n",
      " 37  predict_normalized_13  181503 non-null  float64       \n",
      " 38  predict_14             177633 non-null  float64       \n",
      " 39  predict_normalized_14  177633 non-null  float64       \n",
      " 40  predict_15             173763 non-null  float64       \n",
      " 41  predict_normalized_15  173763 non-null  float64       \n",
      " 42  predict_16             169893 non-null  float64       \n",
      " 43  predict_normalized_16  169893 non-null  float64       \n",
      " 44  predict_in_train_0     227943 non-null  bool          \n",
      " 45  predict_in_train_1     227943 non-null  bool          \n",
      " 46  predict_in_train_2     227943 non-null  bool          \n",
      " 47  predict_in_train_3     227943 non-null  bool          \n",
      " 48  predict_in_train_4     227943 non-null  bool          \n",
      " 49  predict_in_train_5     227943 non-null  bool          \n",
      " 50  predict_in_train_6     227943 non-null  bool          \n",
      " 51  predict_in_train_7     227943 non-null  bool          \n",
      " 52  predict_in_train_8     227943 non-null  bool          \n",
      " 53  predict_in_train_9     227943 non-null  bool          \n",
      " 54  predict_in_train_10    227943 non-null  bool          \n",
      " 55  predict_in_train_11    227943 non-null  bool          \n",
      " 56  predict_in_train_12    227943 non-null  bool          \n",
      " 57  predict_in_train_13    227943 non-null  bool          \n",
      " 58  predict_in_train_14    227943 non-null  bool          \n",
      " 59  predict_in_train_15    227943 non-null  bool          \n",
      " 60  predict_in_train_16    227943 non-null  bool          \n",
      "dtypes: bool(17), datetime64[ns](1), float64(40), int64(1), object(2)\n",
      "memory usage: 82.0+ MB\n"
     ]
    }
   ],
   "source": [
    "# df.info()"
   ]
  },
  {
   "cell_type": "code",
   "execution_count": 13,
   "metadata": {},
   "outputs": [],
   "source": [
    "# df.to_parquet('data/test_data.parquet')"
   ]
  },
  {
   "cell_type": "code",
   "execution_count": null,
   "metadata": {},
   "outputs": [],
   "source": []
  },
  {
   "cell_type": "code",
   "execution_count": null,
   "metadata": {},
   "outputs": [],
   "source": []
  },
  {
   "cell_type": "code",
   "execution_count": 1,
   "metadata": {},
   "outputs": [
    {
     "name": "stderr",
     "output_type": "stream",
     "text": [
      "100%|██████████| 1/1 [00:00<00:00,  5.55it/s]"
     ]
    },
    {
     "name": "stdout",
     "output_type": "stream",
     "text": [
      "\n",
      "Compressing local files, chunk 1 [remaining 1 files]\n"
     ]
    },
    {
     "name": "stderr",
     "output_type": "stream",
     "text": [
      "\n"
     ]
    },
    {
     "name": "stdout",
     "output_type": "stream",
     "text": [
      "File compression completed: total size 2.25 MB, 1 chunked stored (average size 2.25 MB)\n",
      "Uploading compressed dataset changes 1/1 (1 files 2.25 MB) to http://109.248.175.169:8091\n",
      "Upload completed (2.25 MB)\n",
      "2022-06-24 15:14:34,690 - clearml.Task - INFO - Waiting to finish uploads\n",
      "2022-06-24 15:14:34,926 - clearml.Task - INFO - Finished uploading\n"
     ]
    },
    {
     "data": {
      "text/plain": [
       "True"
      ]
     },
     "execution_count": 1,
     "metadata": {},
     "output_type": "execute_result"
    }
   ],
   "source": [
    "from clearml import Dataset\n",
    "ds = Dataset.create(dataset_project='test/dataset', dataset_name='test')\n",
    "\n",
    "ds.add_files(\n",
    "    path='data/test_data.parquet', \n",
    "    wildcard=None, \n",
    "    local_base_folder=None, \n",
    "    dataset_path=None, \n",
    "    recursive=True\n",
    ")\n",
    "# ds.add_files(\n",
    "#     path='data/rinat_data_df.parquet', \n",
    "#     wildcard=None, \n",
    "#     local_base_folder=None, \n",
    "#     dataset_path=None, \n",
    "#     recursive=True\n",
    "# )\n",
    "# ds.add_files(\n",
    "#     path='data/opec_data.parquet', \n",
    "#     wildcard=None, \n",
    "#     local_base_folder=None, \n",
    "#     dataset_path=None, \n",
    "#     recursive=True\n",
    "# )\n",
    "ds.upload(\n",
    "    show_progress=True, \n",
    "    verbose=False, \n",
    "    output_url=None, \n",
    "    compression=None\n",
    ")\n",
    "ds.finalize()"
   ]
  }
 ],
 "metadata": {
  "kernelspec": {
   "display_name": "Python 3.8.5 ('base')",
   "language": "python",
   "name": "python3"
  },
  "language_info": {
   "codemirror_mode": {
    "name": "ipython",
    "version": 3
   },
   "file_extension": ".py",
   "mimetype": "text/x-python",
   "name": "python",
   "nbconvert_exporter": "python",
   "pygments_lexer": "ipython3",
   "version": "3.8.5"
  },
  "orig_nbformat": 4,
  "vscode": {
   "interpreter": {
    "hash": "ad2bdc8ecc057115af97d19610ffacc2b4e99fae6737bb82f5d7fb13d2f2c186"
   }
  }
 },
 "nbformat": 4,
 "nbformat_minor": 2
}
