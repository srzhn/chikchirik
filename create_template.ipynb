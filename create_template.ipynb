{
 "cells": [
  {
   "cell_type": "code",
   "execution_count": 3,
   "metadata": {},
   "outputs": [],
   "source": [
    "from clearml import Dataset, Task\n",
    "import time\n",
    "from utils.storage import ClearMLStorage\n",
    "from clearml_module import *\n"
   ]
  },
  {
   "cell_type": "code",
   "execution_count": 4,
   "metadata": {},
   "outputs": [
    {
     "name": "stdout",
     "output_type": "stream",
     "text": [
      "Dataset:\n",
      "{'dataset_id': 'e5835e1f38d1435e915f249bf8ebd4e6', 'dataset_file_name': 'full_dataset_all_features_2806_ws60.parquet'}\n",
      "Dataset Preprocessing Params:\n",
      "{'business_unit': '3990', 'analog_group': '150', 'window_size': 60, 'split_date': '01.01.2021', 'target_column_name_formatter': 'predict_{}', 'log_target': False, 'scaling': 'Standard', 'scaler_kwargs': None}\n",
      "Model type:\n",
      "{'model_type': 'Ridge', 'use_kfold': True, 'save_kfold_predicts': True, 'save_model': False}\n",
      "Model Parameters:\n",
      "{'alpha': 1.0}\n",
      "K-Fold Parameters:\n",
      "{'n_splits': 5, 'shuffle': False}\n"
     ]
    }
   ],
   "source": [
    "# storage = ClearMLStorage(project_name='zra/2806',\n",
    "#                          task_name='template',\n",
    "#                          dataset_id='e5835e1f38d1435e915f249bf8ebd4e6',\n",
    "#                          dataset_file_name='test_data.parquet')\n",
    "\n",
    "storage = ClearMLStorage(project_name='zra/2806',\n",
    "                         task_name='template',\n",
    "                         dataset_id='e5835e1f38d1435e915f249bf8ebd4e6'\n",
    "                         )\n",
    "\n",
    "storage.print_params()"
   ]
  },
  {
   "cell_type": "code",
   "execution_count": 5,
   "metadata": {},
   "outputs": [],
   "source": [
    "# task = make_task(storage)"
   ]
  },
  {
   "cell_type": "code",
   "execution_count": 6,
   "metadata": {},
   "outputs": [
    {
     "name": "stdout",
     "output_type": "stream",
     "text": [
      "ClearML Task: created new task id=e8f7a133d64f4f45ac2b0a9b00336e3f\n",
      "ClearML results page: http://109.248.175.169:8092/projects/ae0642b6c4c542008bc656c4269ffcac/experiments/e8f7a133d64f4f45ac2b0a9b00336e3f/output/log\n",
      "ClearML Monitor: GPU monitoring failed getting GPU reading, switching off GPU monitoring\n",
      "{'dataset': {'dataset_file_name': 'full_dataset_all_features_2806_ws60.parquet', 'dataset_id': 'e5835e1f38d1435e915f249bf8ebd4e6'}, 'dataset_params': {'analog_group': '150', 'business_unit': '3990', 'log_target': 'False', 'scaler_kwargs': '', 'scaling': 'Standard', 'split_date': '01.01.2021', 'target_column_name_formatter': 'predict_{}', 'window_size': '60'}, 'kflod_kwargs_params': {'n_splits': '5', 'shuffle': 'False'}, 'model_kwargs_params': {'alpha': '1.0'}, 'model_type_params': {'model_type': 'Ridge', 'save_kfold_predicts': 'True', 'save_model': 'False', 'use_kfold': 'True'}}\n",
      "Dataset:\n",
      "{'dataset_id': 'e5835e1f38d1435e915f249bf8ebd4e6', 'dataset_file_name': 'full_dataset_all_features_2806_ws60.parquet'}\n",
      "Dataset Preprocessing Params:\n",
      "{'business_unit': '3990', 'analog_group': '150', 'window_size': 60, 'split_date': '01.01.2021', 'target_column_name_formatter': 'predict_{}', 'log_target': False, 'scaling': 'Standard', 'scaler_kwargs': None}\n",
      "Model type:\n",
      "{'model_type': 'Ridge', 'use_kfold': True, 'save_kfold_predicts': True, 'save_model': False}\n",
      "Model Parameters:\n",
      "{'alpha': 1.0}\n",
      "K-Fold Parameters:\n",
      "{'n_splits': 5, 'shuffle': False}\n",
      "[60]\n",
      "Unique window_sizes: [60]\n",
      "24531\n",
      "1887\n",
      "Train Shape : (1371, 89), Test Shape (486, 89)\n",
      "[60]\n",
      "Unique window_sizes: [60]\n",
      "24531\n",
      "1887\n",
      "Train Shape : (1341, 89), Test Shape (486, 89)\n",
      "[60]\n",
      "Unique window_sizes: [60]\n",
      "24531\n",
      "1887\n",
      "Train Shape : (1311, 89), Test Shape (486, 89)\n",
      "[60]\n",
      "Unique window_sizes: [60]\n",
      "24531\n",
      "1887\n",
      "Train Shape : (1281, 89), Test Shape (486, 89)\n",
      "[60]\n",
      "Unique window_sizes: [60]\n",
      "24531\n",
      "1887\n",
      "Train Shape : (1251, 89), Test Shape (486, 89)\n",
      "[60]\n",
      "Unique window_sizes: [60]\n",
      "24531\n",
      "1887\n",
      "Train Shape : (1221, 89), Test Shape (486, 89)\n",
      "[60]\n",
      "Unique window_sizes: [60]\n",
      "24531\n",
      "1887\n",
      "Train Shape : (1191, 89), Test Shape (486, 89)\n",
      "[60]\n",
      "Unique window_sizes: [60]\n",
      "24531\n",
      "1887\n",
      "Train Shape : (1161, 89), Test Shape (486, 89)\n",
      "[60]\n",
      "Unique window_sizes: [60]\n",
      "24531\n",
      "1887\n",
      "Train Shape : (1131, 89), Test Shape (486, 89)\n",
      "[60]\n",
      "Unique window_sizes: [60]\n",
      "24531\n",
      "1887\n",
      "Train Shape : (1101, 89), Test Shape (486, 89)\n",
      "[60]\n",
      "Unique window_sizes: [60]\n",
      "24531\n",
      "1887\n",
      "Train Shape : (1071, 89), Test Shape (486, 89)\n",
      "[60]\n",
      "Unique window_sizes: [60]\n",
      "24531\n",
      "1887\n",
      "Train Shape : (1041, 89), Test Shape (486, 89)\n"
     ]
    }
   ],
   "source": [
    "task = clearml_task_iteration(storage)"
   ]
  },
  {
   "cell_type": "code",
   "execution_count": 5,
   "metadata": {},
   "outputs": [],
   "source": [
    "# time.sleep(10)"
   ]
  },
  {
   "cell_type": "code",
   "execution_count": 7,
   "metadata": {},
   "outputs": [],
   "source": [
    "task.close()"
   ]
  },
  {
   "cell_type": "code",
   "execution_count": null,
   "metadata": {},
   "outputs": [],
   "source": []
  }
 ],
 "metadata": {
  "kernelspec": {
   "display_name": "Python 3.8.3 ('base')",
   "language": "python",
   "name": "python3"
  },
  "language_info": {
   "codemirror_mode": {
    "name": "ipython",
    "version": 3
   },
   "file_extension": ".py",
   "mimetype": "text/x-python",
   "name": "python",
   "nbconvert_exporter": "python",
   "pygments_lexer": "ipython3",
   "version": "3.8.3"
  },
  "orig_nbformat": 4,
  "vscode": {
   "interpreter": {
    "hash": "40d3a090f54c6569ab1632332b64b2c03c39dcf918b08424e98f38b5ae0af88f"
   }
  }
 },
 "nbformat": 4,
 "nbformat_minor": 2
}
