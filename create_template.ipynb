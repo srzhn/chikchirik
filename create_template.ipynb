{
 "cells": [
  {
   "cell_type": "code",
   "execution_count": 1,
   "metadata": {},
   "outputs": [],
   "source": [
    "from clearml import Dataset, Task\n",
    "import time\n",
    "from utils.storage import ClearMLStorage\n",
    "from clearml_module import *\n"
   ]
  },
  {
   "cell_type": "code",
   "execution_count": 2,
   "metadata": {},
   "outputs": [],
   "source": [
    "storage = ClearMLStorage(project_name='test/test1',\n",
    "                         task_name='chik-chirik',\n",
    "                         dataset_id='1f08b7ac2f43421a81ebb957cac81997',\n",
    "                         dataset_file_name='test_data.parquet')"
   ]
  },
  {
   "cell_type": "code",
   "execution_count": 3,
   "metadata": {},
   "outputs": [
    {
     "name": "stdout",
     "output_type": "stream",
     "text": [
      "ClearML Task: created new task id=a777847f6beb425c9b718666bb6895fe\n",
      "ClearML results page: http://109.248.175.169:8092/projects/882b4480defb48258c7b9cfd3760923e/experiments/a777847f6beb425c9b718666bb6895fe/output/log\n"
     ]
    },
    {
     "name": "stdout",
     "output_type": "stream",
     "text": [
      "ClearML Monitor: GPU monitoring failed getting GPU reading, switching off GPU monitoring\n"
     ]
    }
   ],
   "source": [
    "task = make_task(storage)"
   ]
  },
  {
   "cell_type": "code",
   "execution_count": 4,
   "metadata": {},
   "outputs": [
    {
     "name": "stdout",
     "output_type": "stream",
     "text": [
      "2022-06-27 16:37:42,469 - clearml.task - WARNING - Requirement ignored, Task.add_requirements() must be called before Task.init()\n",
      "ClearML Task: created new task id=655388d25b0e4f72ae4d8d709cf987b4\n",
      "ClearML results page: http://109.248.175.169:8092/projects/882b4480defb48258c7b9cfd3760923e/experiments/655388d25b0e4f72ae4d8d709cf987b4/output/log\n",
      "training : 0\n",
      "Train Shape : (1371, 61), Test Shape (486, 61)\n",
      "training kfold\n",
      "ClearML Monitor: GPU monitoring failed getting GPU reading, switching off GPU monitoring\n",
      "training kfold\n",
      "training kfold\n",
      "training kfold\n",
      "training kfold\n",
      "training : 1\n",
      "Train Shape : (1341, 61), Test Shape (486, 61)\n",
      "training kfold\n",
      "training kfold\n",
      "training kfold\n",
      "training kfold\n",
      "training kfold\n",
      "training : 2\n",
      "Train Shape : (1311, 61), Test Shape (486, 61)\n",
      "training kfold\n",
      "training kfold\n",
      "training kfold\n",
      "training kfold\n",
      "training kfold\n",
      "training : 3\n",
      "Train Shape : (1281, 61), Test Shape (486, 61)\n",
      "training kfold\n",
      "training kfold\n",
      "training kfold\n",
      "training kfold\n",
      "training kfold\n",
      "training : 4\n",
      "Train Shape : (1251, 61), Test Shape (486, 61)\n",
      "training kfold\n",
      "training kfold\n",
      "training kfold\n",
      "training kfold\n",
      "training kfold\n",
      "training : 5\n",
      "Train Shape : (1221, 61), Test Shape (486, 61)\n",
      "training kfold\n",
      "training kfold\n",
      "training kfold\n",
      "training kfold\n",
      "training kfold\n",
      "training : 6\n",
      "Train Shape : (1191, 61), Test Shape (486, 61)\n",
      "training kfold\n",
      "training kfold\n",
      "training kfold\n",
      "training kfold\n",
      "training kfold\n",
      "training : 7\n",
      "Train Shape : (1161, 61), Test Shape (486, 61)\n",
      "training kfold\n",
      "training kfold\n",
      "training kfold\n",
      "training kfold\n",
      "training kfold\n",
      "training : 8\n",
      "Train Shape : (1131, 61), Test Shape (486, 61)\n",
      "training kfold\n",
      "training kfold\n",
      "training kfold\n",
      "training kfold\n",
      "training kfold\n",
      "training : 9\n",
      "Train Shape : (1101, 61), Test Shape (486, 61)\n",
      "training kfold\n",
      "training kfold\n",
      "training kfold\n",
      "training kfold\n",
      "training kfold\n",
      "training : 10\n",
      "Train Shape : (1071, 61), Test Shape (486, 61)\n",
      "training kfold\n",
      "training kfold\n",
      "training kfold\n",
      "training kfold\n",
      "training kfold\n",
      "training : 11\n",
      "Train Shape : (1041, 61), Test Shape (486, 61)\n",
      "training kfold\n",
      "training kfold\n",
      "training kfold\n",
      "training kfold\n",
      "training kfold\n"
     ]
    }
   ],
   "source": [
    "clearml_task_iteration(storage)"
   ]
  },
  {
   "cell_type": "code",
   "execution_count": 5,
   "metadata": {},
   "outputs": [],
   "source": [
    "# time.sleep(10)"
   ]
  },
  {
   "cell_type": "code",
   "execution_count": 6,
   "metadata": {},
   "outputs": [],
   "source": [
    "task.close()"
   ]
  },
  {
   "cell_type": "code",
   "execution_count": null,
   "metadata": {},
   "outputs": [],
   "source": []
  }
 ],
 "metadata": {
  "kernelspec": {
   "display_name": "Python 3.8.3 ('base')",
   "language": "python",
   "name": "python3"
  },
  "language_info": {
   "codemirror_mode": {
    "name": "ipython",
    "version": 3
   },
   "file_extension": ".py",
   "mimetype": "text/x-python",
   "name": "python",
   "nbconvert_exporter": "python",
   "pygments_lexer": "ipython3",
   "version": "3.8.3"
  },
  "orig_nbformat": 4,
  "vscode": {
   "interpreter": {
    "hash": "40d3a090f54c6569ab1632332b64b2c03c39dcf918b08424e98f38b5ae0af88f"
   }
  }
 },
 "nbformat": 4,
 "nbformat_minor": 2
}
