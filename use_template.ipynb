{
 "cells": [
  {
   "cell_type": "code",
   "execution_count": 5,
   "metadata": {},
   "outputs": [],
   "source": [
    "from clearml_module import clone_template\n",
    "\n",
    "# dataset_hyper_params_dict = {'business_unit': ['1010', '1020', '1030', '1060', '1110', '1240', '3990', '5060'],\n",
    "#                                            \"analog_group\": ['150-40', '200-40', '300-40', '400-40', '50-40', '500-40'],\n",
    "#                                            \"window_size\": [60, 120, 360],\n",
    "#                                            \"split_date\": [\"01.01.2021\"],\n",
    "#                                            # \"n_predict\" : 1,\n",
    "#                                            \"target_column_name_formatter\": ['predict', 'predict_in_train', 'predict_normalized'],\n",
    "#                                            \"log_target\": [False, True],\n",
    "#                                            \"scaling\": [\"Standard\", 'MinMax'],\n",
    "#                                         #    \"scaler_kwargs\": None,\n",
    "#                                            # \"drop_not_scalable\": True,\n",
    "#                                            }\n",
    "\n",
    "# model_type_hyper_params_dict = {\n",
    "#             \"model_type\": [\"Ridge\", \"RandomForestRegressor\", \"MLPRegressor\", \"Lasso\", \"ElasticNet\", 'CatBoostRegressor],\n",
    "#             \"use_kfold\": [True, False],\n",
    "#             \"save_kfold_predicts\": [True],\n",
    "#             # \"save_model\": False,\n",
    "#         }\n",
    "\n",
    "# kflod_kwargs_hyper_params_dict = {\n",
    "#             \"n_splits\": [5],\n",
    "#             \"shuffle\": [False]\n",
    "#         }\n",
    "\n",
    "\n",
    "dataset_hyper_params_dict = {'business_unit': ['1010']#, '1020', '1030', '1060', '1110', '1240', '3990', '5060'],\n",
    "                                           ,\"analog_group\": ['150-40', '200-40']#, '300-40', '400-40', '50-40', '500-40'],\n",
    "                                           ,\"window_size\": [60]#, 120, 360],\n",
    "                                           ,\"split_date\": [\"01.01.2021\"]\n",
    "                                           # \"n_predict\" : 1,\n",
    "                                           ,\"target_column_name_formatter\": ['predict_{}']#, 'predict_in_train_{}', 'predict_normalized_{}'],\n",
    "                                           ,\"log_target\": [False]#, True],\n",
    "                                           ,\"scaling\": [\"Standard\"]#, 'MinMax'],\n",
    "                                        #    \"scaler_kwargs\": None,\n",
    "                                           # \"drop_not_scalable\": True,\n",
    "                                           }\n",
    "\n",
    "model_type_hyper_params_dict = {\n",
    "            \"model_type\": [\"RandomForestRegressor\"]#, \"MLPRegressor\", \"Lasso\", \"ElasticNet\"],\n",
    "            ,\"use_kfold\": [True]#, False],\n",
    "            ,\"save_kfold_predicts\": [True],\n",
    "            # \"save_model\": False,\n",
    "        }\n",
    "\n",
    "kflod_kwargs_hyper_params_dict = {\n",
    "            \"n_splits\": [5],\n",
    "            \"shuffle\": [False]\n",
    "        }\n",
    "\n",
    "\n"
   ]
  },
  {
   "cell_type": "code",
   "execution_count": 6,
   "metadata": {},
   "outputs": [
    {
     "name": "stdout",
     "output_type": "stream",
     "text": [
      "pair: ('1010', '150-40'), window_size: 60, model_name: 'RandomForestRegressor'\n",
      "pair: ('1010', '200-40'), window_size: 60, model_name: 'RandomForestRegressor'\n"
     ]
    }
   ],
   "source": [
    "clone_template(\n",
    "    # template_task_id=\"27bbafcb1d7d4178af627b35f551dd1b\", \n",
    "    # template_task_id=\"a777847f6beb425c9b718666bb6895fe\", \n",
    "    # template_task_id=\"e440c3a0e5034179a6868912ffa48ace\", \n",
    "    template_task_id=\"3040d6d43b114fab843e22f10f8a2c59\", \n",
    " dataset_hyper_params_dict=dataset_hyper_params_dict,\n",
    " model_type_hyper_params_dict=model_type_hyper_params_dict,\n",
    " kflod_kwargs_hyper_params_dict=kflod_kwargs_hyper_params_dict,\n",
    "#  queue_name='megion-cpu')\n",
    " queue_name='default')"
   ]
  },
  {
   "cell_type": "code",
   "execution_count": null,
   "metadata": {},
   "outputs": [],
   "source": []
  }
 ],
 "metadata": {
  "kernelspec": {
   "display_name": "Python 3.8.3 ('base')",
   "language": "python",
   "name": "python3"
  },
  "language_info": {
   "codemirror_mode": {
    "name": "ipython",
    "version": 3
   },
   "file_extension": ".py",
   "mimetype": "text/x-python",
   "name": "python",
   "nbconvert_exporter": "python",
   "pygments_lexer": "ipython3",
   "version": "3.8.3"
  },
  "orig_nbformat": 4,
  "vscode": {
   "interpreter": {
    "hash": "40d3a090f54c6569ab1632332b64b2c03c39dcf918b08424e98f38b5ae0af88f"
   }
  }
 },
 "nbformat": 4,
 "nbformat_minor": 2
}
