{
 "cells": [
  {
   "cell_type": "code",
   "execution_count": null,
   "metadata": {},
   "outputs": [],
   "source": [
    "import pandas as pd\n",
    "from clearml import Task"
   ]
  },
  {
   "cell_type": "code",
   "execution_count": null,
   "metadata": {},
   "outputs": [],
   "source": []
  },
  {
   "cell_type": "code",
   "execution_count": null,
   "metadata": {},
   "outputs": [],
   "source": [
    "task_ids = Task.query_tasks(project_name='zra/0407')\n",
    "# task_id = task_ids.pop()\n",
    "# task = Task.get_task(task_id)"
   ]
  },
  {
   "cell_type": "code",
   "execution_count": null,
   "metadata": {},
   "outputs": [],
   "source": [
    "\n",
    "task = Task.get_task(\"d3e5bcb46d2a4a25a5df5850fda375d7\")"
   ]
  },
  {
   "cell_type": "code",
   "execution_count": null,
   "metadata": {},
   "outputs": [],
   "source": [
    "{'dataset': {'dataset_file_name': 'dataset_ws60.parquet',\n",
    "  'dataset_id': '5dc94de095014553acbe4f011a579241'},\n",
    " 'dataset_params': {'analog_group': '150',\n",
    "  'business_unit': 'all',\n",
    "  'log_target': 'True',\n",
    "  'scaler_kwargs': '',\n",
    "  'scaling': 'Standard',\n",
    "  'split_date': '01.01.2021',\n",
    "  'target_column_name_formatter': 'predict_normalized_{}',\n",
    "  'window_size': '120'},\n",
    " 'kflod_kwargs_params': {'n_splits': '5', 'shuffle': 'False'},\n",
    " 'model_kwargs_params': {'alpha': '1.0',\n",
    "  'max_depth': '20',\n",
    "  'n_estimators': '50'},\n",
    " 'model_type_params': {'model_type': 'RandomForestRegressor',\n",
    "  'save_kfold_predicts': 'True',\n",
    "  'save_model': 'False',\n",
    "  'use_kfold': 'False'}}"
   ]
  },
  {
   "cell_type": "code",
   "execution_count": null,
   "metadata": {},
   "outputs": [],
   "source": [
    "all_data = []\n",
    "\n",
    "for task_id in task_ids:\n",
    "    task = Task.get_task(task_id)\n",
    "    # if task.status=='completed' and len(task.get_tags())>0:\n",
    "    if task.status=='completed' and task.parent==\"b5f9c93309b04ebc98497080d4584b0b\":\n",
    "        parameters = task.get_parameters_as_dict()\n",
    "        scalars = task.get_reported_scalars()\n",
    "                \n",
    "        mae = scalars['month']['mae']\n",
    "        mae = pd.Series(index=mae['x'], data=mae['y'], name=mae['name'])\n",
    "        rmse = scalars['month']['rmse']\n",
    "        rmse = pd.Series(index=rmse['x'], data=rmse['y'], name=rmse['name'])\n",
    "\n",
    "        all_data.append((parameters, (mae, rmse)))\n"
   ]
  },
  {
   "cell_type": "code",
   "execution_count": null,
   "metadata": {},
   "outputs": [
    {
     "ename": "",
     "evalue": "",
     "output_type": "error",
     "traceback": [
      "\u001b[1;31mRunning cells with 'Python 3.7.9 ('venv': venv)' requires ipykernel package.\n",
      "Run the following command to install 'ipykernel' into the Python environment. \n",
      "Command: 'd:/gpn/git/chikchirik/venv/Scripts/python.exe -m pip install ipykernel -U --force-reinstall'"
     ]
    }
   ],
   "source": [
    "task.parent"
   ]
  }
 ],
 "metadata": {
  "kernelspec": {
   "display_name": "Python 3.7.9 ('venv': venv)",
   "language": "python",
   "name": "python3"
  },
  "language_info": {
   "name": "python",
   "version": "3.7.9"
  },
  "orig_nbformat": 4,
  "vscode": {
   "interpreter": {
    "hash": "4e509926e238e70c722ac6443718c62f31a8cae66ba7c67b825e30d1d6db80d9"
   }
  }
 },
 "nbformat": 4,
 "nbformat_minor": 2
}
